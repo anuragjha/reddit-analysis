{
 "cells": [
  {
   "cell_type": "markdown",
   "metadata": {},
   "source": [
    "### Backstory: \n",
    "given a specific user, find out more about them: \n",
    "where they’re from, \n",
    "what things they like/dislike, \n",
    "and other data about their background (think of at least 2 more things to determine). \n",
    "\n",
    "Note that this should be somewhat automated; I should be able to give you a username and you’ll produce a backstory dataset for them (it may work better with some users than others). Provide a three sample user backstories in your report, written up as a narrative."
   ]
  },
  {
   "cell_type": "code",
   "execution_count": 28,
   "metadata": {},
   "outputs": [],
   "source": [
    "user1 = 'Late_Night_Grumbler'\n",
    "user2 = 'Lots42'\n",
    "user3 = 'qkme_transcriber'\n",
    "\n",
    "user = user3"
   ]
  },
  {
   "cell_type": "markdown",
   "metadata": {},
   "source": [
    "#### Loading dataset"
   ]
  },
  {
   "cell_type": "code",
   "execution_count": 29,
   "metadata": {},
   "outputs": [
    {
     "name": "stdout",
     "output_type": "stream",
     "text": [
      "<class 'pyspark.sql.dataframe.DataFrame'>\n",
      "30926243\n",
      "+--------+--------------+--------------+----------------------+-----------------+--------------------+---------+----------------+-------+-----------+-------------+-----+------+------+-------+---------+-----------+----+---------+--------------+-------+------------+-----+-----+------------+--------+---------------+------------+---+------------+\n",
      "|archived|        author|author_cakeday|author_flair_css_class|author_flair_text|                body|body_html|controversiality|created|created_utc|distinguished|downs|edited|gilded|     id|  link_id|mod_reports|name|parent_id|removal_reason|replies|retrieved_on|saved|score|score_hidden|stickied|      subreddit|subreddit_id|ups|user_reports|\n",
      "+--------+--------------+--------------+----------------------+-----------------+--------------------+---------+----------------+-------+-----------+-------------+-----+------+------+-------+---------+-----------+----+---------+--------------+-------+------------+-----+-----+------------+--------+---------------+------------+---+------------+\n",
      "|    null|distanceformed|          null|                 green|           7/7/17|I need hash tag h...|     null|               0|   null| 1474469708|         null| null| false|     0|d7w2ag1|t3_53tgt2|       null|null|t3_53tgt2|          null|   null|  1475908052| null|    6|        null|   false|weddingplanning|    t5_2rv3t|  6|        null|\n",
      "+--------+--------------+--------------+----------------------+-----------------+--------------------+---------+----------------+-------+-----------+-------------+-----+------+------+-------+---------+-----------+----+---------+--------------+-------+------------+-----+-----+------------+--------+---------------+------------+---+------------+\n",
      "only showing top 1 row\n",
      "\n"
     ]
    }
   ],
   "source": [
    "# from pyspark import SparkContext, SparkConf\n",
    "from pyspark.sql.functions import from_json, col\n",
    "conf = SparkConf().setAppName('FirstSpark2').setMaster('Spark')\n",
    "sc = SparkContext.getOrCreate()\n",
    "\n",
    "from pyspark.sql import SQLContext\n",
    "sqlContext = SQLContext(sc)\n",
    "df = sqlContext.read.json(\"hdfs://orion11:20001/sample_sampled_reddit/\")\n",
    "\n",
    "print(type(df))\n",
    "print(df.count())\n",
    "df.show(1)"
   ]
  },
  {
   "cell_type": "markdown",
   "metadata": {},
   "source": [
    "#### Filtering dataset"
   ]
  },
  {
   "cell_type": "code",
   "execution_count": 30,
   "metadata": {},
   "outputs": [
    {
     "name": "stdout",
     "output_type": "stream",
     "text": [
      "<class 'pyspark.sql.dataframe.DataFrame'>\n",
      "27303462\n",
      "+--------+--------------+--------------+----------------------+-----------------+--------------------+---------+----------------+-------+-----------+-------------+-----+------+------+-------+---------+-----------+----+---------+--------------+-------+------------+-----+-----+------------+--------+---------------+------------+---+------------+\n",
      "|archived|        author|author_cakeday|author_flair_css_class|author_flair_text|                body|body_html|controversiality|created|created_utc|distinguished|downs|edited|gilded|     id|  link_id|mod_reports|name|parent_id|removal_reason|replies|retrieved_on|saved|score|score_hidden|stickied|      subreddit|subreddit_id|ups|user_reports|\n",
      "+--------+--------------+--------------+----------------------+-----------------+--------------------+---------+----------------+-------+-----------+-------------+-----+------+------+-------+---------+-----------+----+---------+--------------+-------+------------+-----+-----+------------+--------+---------------+------------+---+------------+\n",
      "|    null|distanceformed|          null|                 green|           7/7/17|I need hash tag h...|     null|               0|   null| 1474469708|         null| null| false|     0|d7w2ag1|t3_53tgt2|       null|null|t3_53tgt2|          null|   null|  1475908052| null|    6|        null|   false|weddingplanning|    t5_2rv3t|  6|        null|\n",
      "+--------+--------------+--------------+----------------------+-----------------+--------------------+---------+----------------+-------+-----------+-------------+-----+------+------+-------+---------+-----------+----+---------+--------------+-------+------------+-----+-----+------------+--------+---------------+------------+---+------------+\n",
      "only showing top 1 row\n",
      "\n"
     ]
    }
   ],
   "source": [
    "df2 = df.filter(\n",
    "~(df.body.like('[deleted]'))\n",
    "    & ~(df.body.isNull())\n",
    "    & ~(df.author.like('[deleted]'))\n",
    "    & ~(df.author.like('AutoModerator')) \n",
    "    & ~(df.author.rlike(\"[bB][oO][tT]\"))\n",
    "\n",
    ")\n",
    "\n",
    "print(type(df2))\n",
    "print(df2.count())\n",
    "df2.show(1)"
   ]
  },
  {
   "cell_type": "markdown",
   "metadata": {},
   "source": [
    "#### Adding Comment sentiment column"
   ]
  },
  {
   "cell_type": "code",
   "execution_count": 31,
   "metadata": {},
   "outputs": [
    {
     "name": "stdout",
     "output_type": "stream",
     "text": [
      "<class 'pyspark.sql.dataframe.DataFrame'>\n",
      "27303462\n",
      "+--------+--------------+--------------+----------------------+-----------------+--------------------+---------+----------------+-------+-----------+-------------+-----+------+------+-------+---------+-----------+----+---------+--------------+-------+------------+-----+-----+------------+--------+---------------+------------+---+------------+---------+\n",
      "|archived|        author|author_cakeday|author_flair_css_class|author_flair_text|                body|body_html|controversiality|created|created_utc|distinguished|downs|edited|gilded|     id|  link_id|mod_reports|name|parent_id|removal_reason|replies|retrieved_on|saved|score|score_hidden|stickied|      subreddit|subreddit_id|ups|user_reports|sentiment|\n",
      "+--------+--------------+--------------+----------------------+-----------------+--------------------+---------+----------------+-------+-----------+-------------+-----+------+------+-------+---------+-----------+----+---------+--------------+-------+------------+-----+-----+------------+--------+---------------+------------+---+------------+---------+\n",
      "|    null|distanceformed|          null|                 green|           7/7/17|I need hash tag h...|     null|               0|   null| 1474469708|         null| null| false|     0|d7w2ag1|t3_53tgt2|       null|null|t3_53tgt2|          null|   null|  1475908052| null|    6|        null|   false|weddingplanning|    t5_2rv3t|  6|        null|   0.9129|\n",
      "+--------+--------------+--------------+----------------------+-----------------+--------------------+---------+----------------+-------+-----------+-------------+-----+------+------+-------+---------+-----------+----+---------+--------------+-------+------------+-----+-----+------------+--------+---------------+------------+---+------------+---------+\n",
      "only showing top 1 row\n",
      "\n",
      "CPU times: user 66 ms, sys: 8.98 ms, total: 75 ms\n",
      "Wall time: 45.6 s\n"
     ]
    }
   ],
   "source": [
    "%%time\n",
    "\n",
    "# import nltk\n",
    "# nltk.download('vader_lexicon')\n",
    "\n",
    "from nltk.sentiment.vader import SentimentIntensityAnalyzer\n",
    "sid = SentimentIntensityAnalyzer()\n",
    "\n",
    "from pyspark.sql import functions as F\n",
    "import re\n",
    "from pyspark.sql.functions import udf\n",
    "from pyspark.sql.types import *\n",
    "\n",
    "# pattern = \"\\b[A-Z]+\"\n",
    "\n",
    "def getSentiment(body):\n",
    "    ss = sid.polarity_scores(body)\n",
    "    print(ss)\n",
    "    return ss[\"compound\"]\n",
    "\n",
    "Score = udf(getSentiment, StringType())\n",
    "df3 = df2.withColumn('sentiment', Score(\"body\"))\n",
    "\n",
    "print(type(df3))\n",
    "print(df3.count())\n",
    "df3.show(1)"
   ]
  },
  {
   "cell_type": "markdown",
   "metadata": {},
   "source": [
    "#### Users with most comments"
   ]
  },
  {
   "cell_type": "code",
   "execution_count": 32,
   "metadata": {},
   "outputs": [
    {
     "name": "stdout",
     "output_type": "stream",
     "text": [
      "+--------------------+-----+\n",
      "|              author|count|\n",
      "+--------------------+-----+\n",
      "|     ImagesOfNetwork| 7325|\n",
      "|       ModerationLog| 5722|\n",
      "|         TweetPoster| 5607|\n",
      "|      MTGCardFetcher| 5495|\n",
      "|    imgurtranscriber| 3963|\n",
      "|throwthrowawaytothee| 3814|\n",
      "| Late_Night_Grumbler| 3129|\n",
      "|    qkme_transcriber| 3034|\n",
      "|      TotesMessenger| 2831|\n",
      "|      User_Simulator| 2248|\n",
      "|            autotldr| 2217|\n",
      "|        Franciscouzo| 1981|\n",
      "|        morbiusgreen| 1962|\n",
      "|              Lots42| 1953|\n",
      "|        PornOverlord| 1949|\n",
      "|         UnluckyLuke| 1800|\n",
      "|          davidjl123| 1790|\n",
      "|      atomicimploder| 1778|\n",
      "|          pixis-4950| 1757|\n",
      "|                -rix| 1711|\n",
      "+--------------------+-----+\n",
      "only showing top 20 rows\n",
      "\n"
     ]
    }
   ],
   "source": [
    "groupedByAuthor = df3.groupBy(df3.author).count().orderBy('count', ascending=False)\n",
    "groupedByAuthor.show()"
   ]
  },
  {
   "cell_type": "markdown",
   "metadata": {},
   "source": [
    "#### Filtering data for the given user (input variable)"
   ]
  },
  {
   "cell_type": "code",
   "execution_count": 33,
   "metadata": {},
   "outputs": [
    {
     "name": "stdout",
     "output_type": "stream",
     "text": [
      "<class 'pyspark.sql.dataframe.DataFrame'>\n",
      "3034\n",
      "+--------+----------------+--------------+----------------------+-----------------+--------------------+---------+----------------+-------+-----------+-------------+-----+------+------+-------+---------+-----------+----------+---------+--------------+-------+------------+-----+-----+------------+--------+-------------+------------+---+------------+---------+\n",
      "|archived|          author|author_cakeday|author_flair_css_class|author_flair_text|                body|body_html|controversiality|created|created_utc|distinguished|downs|edited|gilded|     id|  link_id|mod_reports|      name|parent_id|removal_reason|replies|retrieved_on|saved|score|score_hidden|stickied|    subreddit|subreddit_id|ups|user_reports|sentiment|\n",
      "+--------+----------------+--------------+----------------------+-----------------+--------------------+---------+----------------+-------+-----------+-------------+-----+------+------+-------+---------+-----------+----------+---------+--------------+-------+------------+-----+-----+------------+--------+-------------+------------+---+------------+---------+\n",
      "|    true|qkme_transcriber|          null|                  tech|                 |Here is what the ...|     null|               0|   null| 1364712615|         null|    0| false|     0|c95mhks|t3_1bcje1|       null|t1_c95mhks|t3_1bcje1|          null|   null|  1431723088| null|   13|       false|    null|AdviceAnimals|    t5_2s7tt| 13|        null|  -0.7632|\n",
      "+--------+----------------+--------------+----------------------+-----------------+--------------------+---------+----------------+-------+-----------+-------------+-----+------+------+-------+---------+-----------+----------+---------+--------------+-------+------------+-----+-----+------------+--------+-------------+------------+---+------------+---------+\n",
      "only showing top 1 row\n",
      "\n"
     ]
    }
   ],
   "source": [
    "df4 = df3.filter(\n",
    "(df3.author.like(user))\n",
    ")\n",
    "\n",
    "print(type(df4))\n",
    "print(df4.count())\n",
    "df4.show(1)"
   ]
  },
  {
   "cell_type": "markdown",
   "metadata": {},
   "source": [
    "#### Getting agg of sentiment for a user in all participated subreddits"
   ]
  },
  {
   "cell_type": "code",
   "execution_count": 34,
   "metadata": {},
   "outputs": [],
   "source": [
    "groupedBysubreddit = df4.groupBy(df4.subreddit)\n",
    "groupedBysubreddit = groupedBysubreddit.agg({'sentiment':'avg'})"
   ]
  },
  {
   "cell_type": "markdown",
   "metadata": {},
   "source": [
    "#### Top 5 subreddit they like"
   ]
  },
  {
   "cell_type": "code",
   "execution_count": 35,
   "metadata": {},
   "outputs": [
    {
     "name": "stdout",
     "output_type": "stream",
     "text": [
      "+--------------------+--------------+\n",
      "|           subreddit|avg(sentiment)|\n",
      "+--------------------+--------------+\n",
      "|            survivor|        0.9375|\n",
      "|firstworldanarchists|        0.9372|\n",
      "|       skateboarding|        0.8983|\n",
      "|            Patriots|        0.8947|\n",
      "|                 msu|        0.8705|\n",
      "+--------------------+--------------+\n",
      "only showing top 5 rows\n",
      "\n"
     ]
    }
   ],
   "source": [
    "pos5 = groupedBysubreddit.orderBy('avg(sentiment)', ascending=False)\n",
    "pos5.show(5)"
   ]
  },
  {
   "cell_type": "markdown",
   "metadata": {},
   "source": [
    "#### Viewing in graph"
   ]
  },
  {
   "cell_type": "code",
   "execution_count": 19,
   "metadata": {},
   "outputs": [
    {
     "data": {
      "text/plain": [
       "<seaborn.axisgrid.FacetGrid at 0x7f613a8bf208>"
      ]
     },
     "execution_count": 19,
     "metadata": {},
     "output_type": "execute_result"
    },
    {
     "data": {
      "image/png": "[encoded data removed]",
      "text/plain": [
       "<Figure size 593.334x432 with 1 Axes>"
      ]
     },
     "metadata": {},
     "output_type": "display_data"
    }
   ],
   "source": [
    "import seaborn as sns\n",
    "sns.set(style=\"whitegrid\")\n",
    "\n",
    "# Load the example Titanic dataset\n",
    "\n",
    "comp_P = pos5.limit(5).toPandas()\n",
    "\n",
    "# Draw a nested barplot to show survival for avg(sentiment) and subreddit\n",
    "g = sns.catplot(x=\"avg(sentiment)\", y=\"subreddit\", hue=\"subreddit\", data=comp_P, height=6, kind=\"bar\", palette=\"muted\")\n",
    "g.despine(left=True)\n",
    "g.set_ylabels(\"Avg Sentiment\")"
   ]
  },
  {
   "cell_type": "markdown",
   "metadata": {},
   "source": [
    "#### Top 5 subreddit they dislike"
   ]
  },
  {
   "cell_type": "code",
   "execution_count": 36,
   "metadata": {},
   "outputs": [
    {
     "name": "stdout",
     "output_type": "stream",
     "text": [
      "+---------------+--------------+\n",
      "|      subreddit|avg(sentiment)|\n",
      "+---------------+--------------+\n",
      "|        OkCupid|       -0.8844|\n",
      "|          drunk|       -0.8776|\n",
      "| ClassicalMemes|       -0.8732|\n",
      "|leagueoflegends|       -0.8522|\n",
      "|      Parenting|       -0.8484|\n",
      "+---------------+--------------+\n",
      "only showing top 5 rows\n",
      "\n"
     ]
    }
   ],
   "source": [
    "neg5 = groupedBysubreddit.orderBy('avg(sentiment)', ascending=True)\n",
    "neg5.show(5)"
   ]
  },
  {
   "cell_type": "markdown",
   "metadata": {},
   "source": [
    "#### Viewing in chart"
   ]
  },
  {
   "cell_type": "code",
   "execution_count": 18,
   "metadata": {},
   "outputs": [
    {
     "data": {
      "text/plain": [
       "<seaborn.axisgrid.FacetGrid at 0x7f613ad817b8>"
      ]
     },
     "execution_count": 18,
     "metadata": {},
     "output_type": "execute_result"
    },
    {
     "data": {
      "image/png": "[encoded data removed]",
      "text/plain": [
       "<Figure size 556.1x432 with 1 Axes>"
      ]
     },
     "metadata": {},
     "output_type": "display_data"
    }
   ],
   "source": [
    "import seaborn as sns\n",
    "sns.set(style=\"whitegrid\")\n",
    "\n",
    "\n",
    "comp_P = neg5.limit(5).toPandas()\n",
    "\n",
    "# Draw a nested barplot to show survival for avg(sentiment) and subreddit\n",
    "g = sns.catplot(x=\"avg(sentiment)\", y=\"subreddit\", hue=\"subreddit\", data=comp_P, height=6, kind=\"bar\", palette=\"muted\")\n",
    "g.despine(left=True)\n",
    "g.set_ylabels(\"Avg Sentiment\")"
   ]
  },
  {
   "cell_type": "markdown",
   "metadata": {},
   "source": [
    "#### Creating a Year Column based on created_utc column in dataset"
   ]
  },
  {
   "cell_type": "code",
   "execution_count": 37,
   "metadata": {},
   "outputs": [
    {
     "name": "stdout",
     "output_type": "stream",
     "text": [
      "+--------+----------------+--------------+----------------------+-----------------+--------------------+---------+----------------+-------+-----------+-------------+-----+------+------+-------+---------+-----------+----------+---------+--------------+-------+------------+-----+-----+------------+--------+-------------+------------+---+------------+---------+----+-----+\n",
      "|archived|          author|author_cakeday|author_flair_css_class|author_flair_text|                body|body_html|controversiality|created|created_utc|distinguished|downs|edited|gilded|     id|  link_id|mod_reports|      name|parent_id|removal_reason|replies|retrieved_on|saved|score|score_hidden|stickied|    subreddit|subreddit_id|ups|user_reports|sentiment|year|month|\n",
      "+--------+----------------+--------------+----------------------+-----------------+--------------------+---------+----------------+-------+-----------+-------------+-----+------+------+-------+---------+-----------+----------+---------+--------------+-------+------------+-----+-----+------------+--------+-------------+------------+---+------------+---------+----+-----+\n",
      "|    true|qkme_transcriber|          null|                  tech|                 |Here is what the ...|     null|               0|   null| 1364712615|         null|    0| false|     0|c95mhks|t3_1bcje1|       null|t1_c95mhks|t3_1bcje1|          null|   null|  1431723088| null|   13|       false|    null|AdviceAnimals|    t5_2s7tt| 13|        null|  -0.7632|2013|    3|\n",
      "|    true|qkme_transcriber|          null|                  tech|                 |Here is what the ...|     null|               0|   null| 1364714655|         null|    0| false|     0|c95mua6|t3_1bckio|       null|t1_c95mua6|t3_1bckio|          null|   null|  1431722921| null|    1|       false|    null|AdviceAnimals|    t5_2s7tt|  1|        null|  -0.6972|2013|    3|\n",
      "+--------+----------------+--------------+----------------------+-----------------+--------------------+---------+----------------+-------+-----------+-------------+-----+------+------+-------+---------+-----------+----------+---------+--------------+-------+------------+-----+-----+------------+--------+-------------+------------+---+------------+---------+----+-----+\n",
      "only showing top 2 rows\n",
      "\n"
     ]
    }
   ],
   "source": [
    "from pyspark.sql.functions import year, month, dayofmonth, from_unixtime\n",
    "from pyspark.sql.types import DateType\n",
    "\n",
    "df5 = (df4\n",
    "      .withColumn(\"year\", year(from_unixtime(\"created_utc\").cast(DateType())))\n",
    "      .withColumn(\"month\",month(from_unixtime(\"created_utc\").cast(DateType())))\n",
    "      )\n",
    "df5.show(2)"
   ]
  },
  {
   "cell_type": "markdown",
   "metadata": {},
   "source": [
    "#### Which year user was most active"
   ]
  },
  {
   "cell_type": "code",
   "execution_count": 38,
   "metadata": {},
   "outputs": [
    {
     "name": "stdout",
     "output_type": "stream",
     "text": [
      "<class 'pyspark.sql.dataframe.DataFrame'>\n",
      "2\n",
      "+----+-----+\n",
      "|year|count|\n",
      "+----+-----+\n",
      "|2013|  898|\n",
      "|2012| 2136|\n",
      "+----+-----+\n",
      "\n"
     ]
    }
   ],
   "source": [
    "df6 = df5.groupBy(df5.year)\n",
    "df6 = df6.count()\n",
    "\n",
    "print(type(df6))\n",
    "print(df6.count())\n",
    "df6.show()"
   ]
  },
  {
   "cell_type": "markdown",
   "metadata": {},
   "source": [
    "#### Viewing in active year in Bar chart"
   ]
  },
  {
   "cell_type": "code",
   "execution_count": 27,
   "metadata": {},
   "outputs": [
    {
     "data": {
      "text/plain": [
       "<seaborn.axisgrid.FacetGrid at 0x7f6138fa7320>"
      ]
     },
     "execution_count": 27,
     "metadata": {},
     "output_type": "execute_result"
    },
    {
     "data": {
      "image/png": "[encoded data removed]",
      "text/plain": [
       "<Figure size 432x432 with 1 Axes>"
      ]
     },
     "metadata": {},
     "output_type": "display_data"
    }
   ],
   "source": [
    "# import seaborn as sns, numpy as np\n",
    "# import matplotlib.pyplot as plt\n",
    "\n",
    "# sns.set(color_codes=True)\n",
    "# sns.set(style=\"ticks\")\n",
    "\n",
    "# df10p = df6.toPandas()\n",
    "# df10p = df10p.dropna()\n",
    "\n",
    "# # Sort the dataframe by target\n",
    "# target_0 = df10p\n",
    "# # target_1 = df11p.loc[df11p['subreddit'] == topic2]\n",
    "\n",
    "# ax = sns.distplot(target_0[['year']], label='year', hist=True, rug=False, kde=True, bins=10)\n",
    "\n",
    "# ax.set(xlabel='count', ylabel='year')\n",
    "\n",
    "# plt.legend()\n",
    "\n",
    "\n",
    "import seaborn as sns\n",
    "sns.set(style=\"whitegrid\")\n",
    "\n",
    "\n",
    "comp_P = df6.toPandas()\n",
    "\n",
    "# Draw a nested barplot to show survival for avg(sentiment) and subreddit\n",
    "g = sns.catplot(x=\"year\", y=\"count\", hue=\"year\", data=comp_P, height=6, kind=\"bar\", palette=\"muted\")\n",
    "g.despine(left=True)\n",
    "g.set_ylabels(\"Count\")"
   ]
  },
  {
   "cell_type": "markdown",
   "metadata": {},
   "source": [
    "### Backstory"
   ]
  },
  {
   "cell_type": "markdown",
   "metadata": {},
   "source": [
    "#### Late_Night_grumbler"
   ]
  },
  {
   "cell_type": "code",
   "execution_count": null,
   "metadata": {},
   "outputs": [],
   "source": [
    "likes these subreddits\n",
    "+-----------+------------------+\n",
    "|  subreddit|    avg(sentiment)|\n",
    "+-----------+------------------+\n",
    "|       FLCL|            0.9764|\n",
    "|       pics|            0.7961|\n",
    "|     iphone|            0.6808|\n",
    "|    Scrolls|0.5478666666666666|\n",
    "|InternetAMA|            0.4824|\n",
    "+-----------+------------------+\n",
    "\n",
    "dislikes these subreddits\n",
    "+-----------------+--------------------+\n",
    "|        subreddit|      avg(sentiment)|\n",
    "+-----------------+--------------------+\n",
    "|        teenagers|             -0.9529|\n",
    "|IdeasForAskreddit|             -0.6571|\n",
    "|  leagueoflegends|            -0.34675|\n",
    "|      hearthstone|-0.31116666666666665|\n",
    "|          diablo3|             -0.1299|\n",
    "+-----------------+--------------------+\n",
    "\n",
    "And was active in years\n",
    "+----+-----+\n",
    "|year|count|\n",
    "+----+-----+\n",
    "|2015|  766|\n",
    "|2013| 1213|\n",
    "|2014|  702|\n",
    "|2012|  448|\n",
    "+----+-----+\n"
   ]
  },
  {
   "cell_type": "markdown",
   "metadata": {},
   "source": [
    "#### Lots42"
   ]
  },
  {
   "cell_type": "code",
   "execution_count": null,
   "metadata": {},
   "outputs": [],
   "source": [
    "likes these subreddits\n",
    "+--------------------+--------------+\n",
    "|           subreddit|avg(sentiment)|\n",
    "+--------------------+--------------+\n",
    "|               tampa|        0.9052|\n",
    "|           Headcanon|        0.8338|\n",
    "|ImGoingToHellForThis|        0.8074|\n",
    "|            HalfLife|        0.7862|\n",
    "|          ragedreams|        0.7698|\n",
    "+--------------------+--------------+\n",
    "\n",
    "dislikes these subreddits\n",
    "+-------------+--------------+\n",
    "|    subreddit|avg(sentiment)|\n",
    "+-------------+--------------+\n",
    "|gameofthrones|       -0.8964|\n",
    "| TumblrAtRest|       -0.8834|\n",
    "|        ANGEL|       -0.8294|\n",
    "|         lost|       -0.8038|\n",
    "|  meta_me_irl|       -0.7579|\n",
    "+-------------+--------------+\n",
    "\n",
    "And was active in years\n",
    "+----+-----+\n",
    "|year|count|\n",
    "+----+-----+\n",
    "|2015|  315|\n",
    "|2013|  379|\n",
    "|2014|  356|\n",
    "|2012|  366|\n",
    "|2016|  244|\n",
    "|2011|  240|\n",
    "|2017|   53|\n",
    "+----+-----+"
   ]
  },
  {
   "cell_type": "markdown",
   "metadata": {},
   "source": [
    "#### qkme_transcriber"
   ]
  },
  {
   "cell_type": "code",
   "execution_count": null,
   "metadata": {},
   "outputs": [],
   "source": [
    "likes these subreddits\n",
    "+--------------------+--------------+\n",
    "|           subreddit|avg(sentiment)|\n",
    "+--------------------+--------------+\n",
    "|            survivor|        0.9375|\n",
    "|firstworldanarchists|        0.9372|\n",
    "|       skateboarding|        0.8983|\n",
    "|            Patriots|        0.8947|\n",
    "|                 msu|        0.8705|\n",
    "+--------------------+--------------+\n",
    "\n",
    "dislikes these subreddits\n",
    "+---------------+--------------+\n",
    "|      subreddit|avg(sentiment)|\n",
    "+---------------+--------------+\n",
    "|        OkCupid|       -0.8844|\n",
    "|          drunk|       -0.8776|\n",
    "| ClassicalMemes|       -0.8732|\n",
    "|leagueoflegends|       -0.8522|\n",
    "|      Parenting|       -0.8484|\n",
    "+---------------+--------------+\n",
    "\n",
    "And was active in years\n",
    "+----+-----+\n",
    "|year|count|\n",
    "+----+-----+\n",
    "|2013|  898|\n",
    "|2012| 2136|\n",
    "+----+-----+"
   ]
  }
 ],
 "metadata": {
  "kernelspec": {
   "display_name": "Python 3",
   "language": "python",
   "name": "python3"
  },
  "language_info": {
   "codemirror_mode": {
    "name": "ipython",
    "version": 3
   },
   "file_extension": ".py",
   "mimetype": "text/x-python",
   "name": "python",
   "nbconvert_exporter": "python",
   "pygments_lexer": "ipython3",
   "version": "3.7.3"
  }
 },
 "nbformat": 4,
 "nbformat_minor": 2
}
