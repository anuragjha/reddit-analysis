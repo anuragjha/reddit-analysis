{
 "cells": [
  {
   "cell_type": "markdown",
   "metadata": {},
   "source": [
    "### Screamers: \n",
    "It is well known that WRITING IN ALL CAPS ONLINE IS A SUBSTITUTE FOR SCREAMING… OR YELLING. *cough!*. (Or some might say it’s simply cruise control for cooooool). Write a job to find users that scream a lot, and provide a screamer score (a highly-technical metric that you will invent).\n",
    "\n",
    "For future reference (when we really want to get something off our chest), what are the top 5 subreddits for scream-y comments?"
   ]
  },
  {
   "cell_type": "markdown",
   "metadata": {},
   "source": [
    "#### Loading sample data into dataframe"
   ]
  },
  {
   "cell_type": "code",
   "execution_count": 1,
   "metadata": {},
   "outputs": [],
   "source": [
    "# from pyspark import SparkContext, SparkConf\n",
    "from pyspark.sql.functions import from_json, col\n",
    "conf = SparkConf().setAppName('FirstSpark2').setMaster('Spark')\n",
    "sc = SparkContext.getOrCreate()\n",
    "\n",
    "from pyspark.sql import SQLContext\n",
    "sqlContext = SQLContext(sc)\n",
    "df = sqlContext.read.json(\"hdfs://orion11:20001/sample_sampled_reddit/\")"
   ]
  },
  {
   "cell_type": "markdown",
   "metadata": {},
   "source": [
    "#### Filtering dataset"
   ]
  },
  {
   "cell_type": "code",
   "execution_count": 2,
   "metadata": {},
   "outputs": [
    {
     "name": "stdout",
     "output_type": "stream",
     "text": [
      "<class 'pyspark.sql.dataframe.DataFrame'>\n",
      "27303462\n",
      "+--------+--------------+--------------+----------------------+-----------------+--------------------+---------+----------------+-------+-----------+-------------+-----+------+------+-------+---------+-----------+----+---------+--------------+-------+------------+-----+-----+------------+--------+---------------+------------+---+------------+\n",
      "|archived|        author|author_cakeday|author_flair_css_class|author_flair_text|                body|body_html|controversiality|created|created_utc|distinguished|downs|edited|gilded|     id|  link_id|mod_reports|name|parent_id|removal_reason|replies|retrieved_on|saved|score|score_hidden|stickied|      subreddit|subreddit_id|ups|user_reports|\n",
      "+--------+--------------+--------------+----------------------+-----------------+--------------------+---------+----------------+-------+-----------+-------------+-----+------+------+-------+---------+-----------+----+---------+--------------+-------+------------+-----+-----+------------+--------+---------------+------------+---+------------+\n",
      "|    null|distanceformed|          null|                 green|           7/7/17|I need hash tag h...|     null|               0|   null| 1474469708|         null| null| false|     0|d7w2ag1|t3_53tgt2|       null|null|t3_53tgt2|          null|   null|  1475908052| null|    6|        null|   false|weddingplanning|    t5_2rv3t|  6|        null|\n",
      "+--------+--------------+--------------+----------------------+-----------------+--------------------+---------+----------------+-------+-----------+-------------+-----+------+------+-------+---------+-----------+----+---------+--------------+-------+------------+-----+-----+------------+--------+---------------+------------+---+------------+\n",
      "only showing top 1 row\n",
      "\n"
     ]
    }
   ],
   "source": [
    "df2 = df.filter(\n",
    "~(df.body.like('[deleted]'))\n",
    "    & ~(df.body.isNull())\n",
    "    & ~(df.author.like('[deleted]'))\n",
    "    & ~(df.author.like('AutoModerator')) \n",
    "    & ~(df.author.rlike(\"[bB][oO][tT]\"))\n",
    "\n",
    ")\n",
    "\n",
    "print(type(df2))\n",
    "print(df2.count())\n",
    "df2.show(1)"
   ]
  },
  {
   "cell_type": "markdown",
   "metadata": {},
   "source": [
    "#### Creating a view"
   ]
  },
  {
   "cell_type": "code",
   "execution_count": 3,
   "metadata": {
    "scrolled": true
   },
   "outputs": [
    {
     "name": "stdout",
     "output_type": "stream",
     "text": [
      "CPU times: user 1.66 ms, sys: 94 µs, total: 1.75 ms\n",
      "Wall time: 108 ms\n"
     ]
    }
   ],
   "source": [
    "%%time\n",
    "df2.createOrReplaceTempView(\"dataframe\")"
   ]
  },
  {
   "cell_type": "markdown",
   "metadata": {},
   "source": [
    "#### Using the view"
   ]
  },
  {
   "cell_type": "code",
   "execution_count": 4,
   "metadata": {},
   "outputs": [
    {
     "name": "stdout",
     "output_type": "stream",
     "text": [
      "+--------+--------------+--------------+----------------------+-----------------+--------------------+---------+----------------+-------+-----------+-------------+-----+------+------+-------+---------+-----------+----+----------+--------------+-------+------------+-----+-----+------------+--------+---------------+------------+---+------------+\n",
      "|archived|        author|author_cakeday|author_flair_css_class|author_flair_text|                body|body_html|controversiality|created|created_utc|distinguished|downs|edited|gilded|     id|  link_id|mod_reports|name| parent_id|removal_reason|replies|retrieved_on|saved|score|score_hidden|stickied|      subreddit|subreddit_id|ups|user_reports|\n",
      "+--------+--------------+--------------+----------------------+-----------------+--------------------+---------+----------------+-------+-----------+-------------+-----+------+------+-------+---------+-----------+----+----------+--------------+-------+------------+-----+-----+------------+--------+---------------+------------+---+------------+\n",
      "|    null|distanceformed|          null|                 green|           7/7/17|I need hash tag h...|     null|               0|   null| 1474469708|         null| null| false|     0|d7w2ag1|t3_53tgt2|       null|null| t3_53tgt2|          null|   null|  1475908052| null|    6|        null|   false|weddingplanning|    t5_2rv3t|  6|        null|\n",
      "|    null|RetardedTiming|          null|                  null|             null|I'll never unders...|     null|               0|   null| 1474469714|         null| null| false|     0|d7w2am5|t3_53qxob|       null|null| t3_53qxob|          null|   null|  1475908055| null|  -10|        null|   false|           cars|    t5_2qhl2|-10|        null|\n",
      "|    null|   ReamTeam513|          null|                  null|             null|Yes so I'm alread...|     null|               0|   null| 1474469718|         null| null| false|     0|d7w2aqb|t3_53rfka|       null|null|t1_d7w2765|          null|   null|  1475908058| null|    1|        null|   false| TheXanaxCartel|    t5_3cr1s|  1|        null|\n",
      "+--------+--------------+--------------+----------------------+-----------------+--------------------+---------+----------------+-------+-----------+-------------+-----+------+------+-------+---------+-----------+----+----------+--------------+-------+------------+-----+-----+------------+--------+---------------+------------+---+------------+\n",
      "only showing top 3 rows\n",
      "\n",
      "CPU times: user 1 ms, sys: 1.21 ms, total: 2.21 ms\n",
      "Wall time: 2.94 s\n"
     ]
    }
   ],
   "source": [
    "%%time\n",
    "df3 = spark.sql('SELECT * FROM dataframe')\n",
    "df3.show(3)"
   ]
  },
  {
   "cell_type": "markdown",
   "metadata": {},
   "source": [
    "#### Adding a column \"scream_score\" which gives the count of words that have atleast two CAPS ALphabets in words in the body   "
   ]
  },
  {
   "cell_type": "code",
   "execution_count": 5,
   "metadata": {},
   "outputs": [
    {
     "name": "stdout",
     "output_type": "stream",
     "text": [
      "<class 'pyspark.sql.dataframe.DataFrame'>\n",
      "27303462\n",
      "+--------+--------------+--------------+----------------------+-----------------+--------------------+---------+----------------+-------+-----------+-------------+-----+------+------+-------+---------+-----------+----+---------+--------------+-------+------------+-----+-----+------------+--------+---------------+------------+---+------------+------------+\n",
      "|archived|        author|author_cakeday|author_flair_css_class|author_flair_text|                body|body_html|controversiality|created|created_utc|distinguished|downs|edited|gilded|     id|  link_id|mod_reports|name|parent_id|removal_reason|replies|retrieved_on|saved|score|score_hidden|stickied|      subreddit|subreddit_id|ups|user_reports|scream_score|\n",
      "+--------+--------------+--------------+----------------------+-----------------+--------------------+---------+----------------+-------+-----------+-------------+-----+------+------+-------+---------+-----------+----+---------+--------------+-------+------------+-----+-----+------------+--------+---------------+------------+---+------------+------------+\n",
      "|    null|distanceformed|          null|                 green|           7/7/17|I need hash tag h...|     null|               0|   null| 1474469708|         null| null| false|     0|d7w2ag1|t3_53tgt2|       null|null|t3_53tgt2|          null|   null|  1475908052| null|    6|        null|   false|weddingplanning|    t5_2rv3t|  6|        null|           0|\n",
      "+--------+--------------+--------------+----------------------+-----------------+--------------------+---------+----------------+-------+-----------+-------------+-----+------+------+-------+---------+-----------+----+---------+--------------+-------+------------+-----+-----+------------+--------+---------------+------------+---+------------+------------+\n",
      "only showing top 1 row\n",
      "\n",
      "CPU times: user 7.29 ms, sys: 6.86 ms, total: 14.2 ms\n",
      "Wall time: 23.3 s\n"
     ]
    }
   ],
   "source": [
    "%%time\n",
    "from pyspark.sql import functions as F\n",
    "import re\n",
    "from pyspark.sql.functions import udf\n",
    "from pyspark.sql.types import *\n",
    "\n",
    "pattern = \"\\b[A-Z]+\"\n",
    "\n",
    "def getScore(body):\n",
    "    list = re.findall(pattern, body)\n",
    "    print(len(list))\n",
    "    return len(list)\n",
    "\n",
    "Score = udf(getScore, StringType())\n",
    "df4 = df3.withColumn('scream_score', Score(\"body\"))\n",
    "\n",
    "print(type(df4))\n",
    "print(df4.count())\n",
    "df4.show(1)"
   ]
  },
  {
   "cell_type": "markdown",
   "metadata": {},
   "source": [
    "#### seeing comments with scream_score > 0"
   ]
  },
  {
   "cell_type": "code",
   "execution_count": 6,
   "metadata": {},
   "outputs": [
    {
     "name": "stdout",
     "output_type": "stream",
     "text": [
      "+-------+-------+---------------------------------------------------------------------------------------------------------------------------------------------------------------------------------------------------------------------------------------------------------------------------------------------------------------------------------------------------------------------------------------------------------------------------------------------------------------------------------------------------------------------------------------+------------+\n",
      "|id     |author |body                                                                                                                                                                                                                                                                                                                                                                                                                                                                                                                                   |scream_score|\n",
      "+-------+-------+---------------------------------------------------------------------------------------------------------------------------------------------------------------------------------------------------------------------------------------------------------------------------------------------------------------------------------------------------------------------------------------------------------------------------------------------------------------------------------------------------------------------------------------+------------+\n",
      "|ccdix8i|bravado|\bNot everybody has choice and freedom as their most important preference. Sometimes having a tightly controlled experience can be rewarding for a lot of people. If they need to upgrade, they can choose to leave the Apple world or get the next new thing from apple.                                                                                                                                                                                                                                                               |1           |\n",
      "|c30q01h|bravado|\bIf I recall, the original iPhone 4 was sold out for an immensely long time as well, but it didn't have the advantage of having pre-developed factories ready to pump out that design of a phone.\n",
      "\n",
      "Either the 4S demand is REALLY that high to make a backlog even though the factories are already used to the phone design, or the demand was underestimated in the projections.\n",
      "\n",
      "Making people wait is bad. Making people wait for something that sucks is worse. Thankfully the 4S is a quality product, so the effect is lessened.|1           |\n",
      "+-------+-------+---------------------------------------------------------------------------------------------------------------------------------------------------------------------------------------------------------------------------------------------------------------------------------------------------------------------------------------------------------------------------------------------------------------------------------------------------------------------------------------------------------------------------------------+------------+\n",
      "only showing top 2 rows\n",
      "\n"
     ]
    }
   ],
   "source": [
    "df4.select(df4.id, df4.author, df4.body, df4.scream_score).filter(df4.author.like('bravado')).filter(df4.scream_score>0).show(2, False)\n",
    "\n"
   ]
  },
  {
   "cell_type": "markdown",
   "metadata": {},
   "source": [
    "#### Group by Author to get the top users that scream a lot"
   ]
  },
  {
   "cell_type": "code",
   "execution_count": 10,
   "metadata": {},
   "outputs": [
    {
     "name": "stdout",
     "output_type": "stream",
     "text": [
      "+-------------------+-----------------+\n",
      "|             author|sum(scream_score)|\n",
      "+-------------------+-----------------+\n",
      "|            bravado|              7.0|\n",
      "|            tostono|              4.0|\n",
      "|             daberu|              2.0|\n",
      "|            brianm1|              1.0|\n",
      "|    FUCKYOURENGLISH|              1.0|\n",
      "|           bookey23|              1.0|\n",
      "|       SpringsHaven|              1.0|\n",
      "|             frosse|              1.0|\n",
      "|             Extr22|              1.0|\n",
      "|            Swegali|              1.0|\n",
      "|              ecco5|              1.0|\n",
      "|            dash006|              1.0|\n",
      "|      riemannszeros|              1.0|\n",
      "|           sheenobu|              1.0|\n",
      "|       AsianEyePeas|              1.0|\n",
      "|             pynzrz|              1.0|\n",
      "|             Horong|              1.0|\n",
      "|trevorthecerealbowl|              0.0|\n",
      "|        Juergenator|              0.0|\n",
      "|      Sixty-to-Zero|              0.0|\n",
      "+-------------------+-----------------+\n",
      "only showing top 20 rows\n",
      "\n"
     ]
    }
   ],
   "source": [
    "groupedByAuthor = df4.groupBy(df4.author)\n",
    "#groupedByAuthor.agg({'scream_score':'sum'}).orderBy('sum(scream_score)', ascending=False).show()\n",
    "\n",
    "comp = groupedByAuthor.agg({'scream_score':'sum'}).orderBy('sum(scream_score)', ascending=False)\n",
    "comp.show()\n"
   ]
  },
  {
   "cell_type": "markdown",
   "metadata": {},
   "source": [
    "#### Bar Graph of top 10 screamer authors"
   ]
  },
  {
   "cell_type": "code",
   "execution_count": 16,
   "metadata": {},
   "outputs": [
    {
     "data": {
      "text/plain": [
       "<seaborn.axisgrid.FacetGrid at 0x7ff176b809b0>"
      ]
     },
     "execution_count": 16,
     "metadata": {},
     "output_type": "execute_result"
    },
    {
     "data": {
      "image/png": "[encoded data removed]",
      "text/plain": [
       "<Figure size 432x432 with 1 Axes>"
      ]
     },
     "metadata": {},
     "output_type": "display_data"
    }
   ],
   "source": [
    "import seaborn as sns\n",
    "\n",
    "sns.set(style=\"whitegrid\")\n",
    "\n",
    "\n",
    "comp = comp.limit(10)\n",
    "comp_P = comp.toPandas()\n",
    "\n",
    "\n",
    "# Draw a nested barplot to show survival for avg(sentiment) and subreddit\n",
    "g = sns.catplot(x=\"sum(scream_score)\", y=\"author\", data=comp_P, height=6, kind=\"bar\", palette=\"muted\")\n",
    "\n",
    "g.despine(left=True)\n",
    "g.set_ylabels(\"Sum of Scream score\")"
   ]
  },
  {
   "cell_type": "markdown",
   "metadata": {},
   "source": [
    "#### Group by subreddit to get the subreddits having screaming comments"
   ]
  },
  {
   "cell_type": "code",
   "execution_count": 18,
   "metadata": {},
   "outputs": [
    {
     "name": "stdout",
     "output_type": "stream",
     "text": [
      "+------------------+-----------------+\n",
      "|         subreddit|sum(scream_score)|\n",
      "+------------------+-----------------+\n",
      "|               zen|              4.0|\n",
      "|             apple|              3.0|\n",
      "|  A858DE45F56D9BC9|              2.0|\n",
      "|           whiskey|              2.0|\n",
      "|        reddit.com|              1.0|\n",
      "|            gaming|              1.0|\n",
      "|         Minecraft|              1.0|\n",
      "|elderscrollsonline|              1.0|\n",
      "|             Games|              1.0|\n",
      "|            Korean|              1.0|\n",
      "|         AskReddit|              1.0|\n",
      "|        technology|              1.0|\n",
      "|              pics|              1.0|\n",
      "|            canada|              1.0|\n",
      "|             tarot|              1.0|\n",
      "|            HiTMAN|              1.0|\n",
      "|        MensRights|              1.0|\n",
      "|        SteamTrade|              1.0|\n",
      "|              osgi|              1.0|\n",
      "|      listentothis|              1.0|\n",
      "+------------------+-----------------+\n",
      "only showing top 20 rows\n",
      "\n"
     ]
    }
   ],
   "source": [
    "groupedBySubreddit = df4.groupBy(df4.subreddit)\n",
    "comp1 = groupedBySubreddit.agg({'scream_score':'sum'}).orderBy('sum(scream_score)', ascending=False)\n",
    "comp1.show()"
   ]
  },
  {
   "cell_type": "markdown",
   "metadata": {},
   "source": [
    "#### Bar graph for top 10 screamer subreddits"
   ]
  },
  {
   "cell_type": "code",
   "execution_count": 19,
   "metadata": {},
   "outputs": [
    {
     "data": {
      "text/plain": [
       "<seaborn.axisgrid.FacetGrid at 0x7ff1768f7860>"
      ]
     },
     "execution_count": 19,
     "metadata": {},
     "output_type": "execute_result"
    },
    {
     "data": {
      "image/png": "[encoded data removed]",
      "text/plain": [
       "<Figure size 432x432 with 1 Axes>"
      ]
     },
     "metadata": {},
     "output_type": "display_data"
    }
   ],
   "source": [
    "import seaborn as sns\n",
    "\n",
    "sns.set(style=\"whitegrid\")\n",
    "\n",
    "\n",
    "comp1 = comp1.limit(10)\n",
    "comp_P1 = comp1.toPandas()\n",
    "\n",
    "\n",
    "# Draw a nested barplot to show survival for avg(sentiment) and subreddit\n",
    "g = sns.catplot(x=\"sum(scream_score)\", y=\"subreddit\", data=comp_P1, height=6, kind=\"bar\", palette=\"muted\")\n",
    "\n",
    "g.despine(left=True)\n",
    "g.set_ylabels(\"Sum of Scream score\")"
   ]
  },
  {
   "cell_type": "code",
   "execution_count": null,
   "metadata": {},
   "outputs": [],
   "source": []
  }
 ],
 "metadata": {
  "kernelspec": {
   "display_name": "Python 3",
   "language": "python",
   "name": "python3"
  },
  "language_info": {
   "codemirror_mode": {
    "name": "ipython",
    "version": 3
   },
   "file_extension": ".py",
   "mimetype": "text/x-python",
   "name": "python",
   "nbconvert_exporter": "python",
   "pygments_lexer": "ipython3",
   "version": "3.7.3"
  }
 },
 "nbformat": 4,
 "nbformat_minor": 2
}
