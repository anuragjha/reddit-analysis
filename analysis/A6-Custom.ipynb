{
 "cells": [
  {
   "cell_type": "markdown",
   "metadata": {},
   "source": [
    "#### Now that you’ve found the answers to the questions above, design two of your own questions to answer. These should be sufficiently difficult, and you should be creative! You should start with a question, and then propose a predicted answer or hypothesis before writing a MapReduce job to answer it. If you come up with a particularly challenging question, it can count for two (ask first). Some ideas:\n",
    "\n",
    "Make predictions / classifications using ML models\n",
    "Visualization of related features. Your visualization should help tell a story.\n",
    "Clustering related users, comments, or subreddits\n",
    "Summary statistics: finding mins, maxes, standard deviations, or even correlations between variables to tell us something about a subreddit or multiple subreddits. For example, perhaps users that visit /r/technology also frequently visit /r/android.\n",
    "Friend graph: can you link together ‘related’ users based on some shared interest? Maybe several users visit the same collection of subreddits. The PageRank could come in handy here."
   ]
  },
  {
   "cell_type": "markdown",
   "metadata": {},
   "source": [
    "### Questions\n",
    "1. How are number of commenters related to time series ?\n",
    "2. How is toxicity in Reddit related to time series ?"
   ]
  },
  {
   "cell_type": "markdown",
   "metadata": {},
   "source": [
    "#### Loading sample data into dataframe\n",
    "\n",
    "\n",
    "\n",
    "\n"
   ]
  },
  {
   "cell_type": "code",
   "execution_count": 1,
   "metadata": {},
   "outputs": [],
   "source": [
    "# from pyspark import SparkContext, SparkConf\n",
    "from pyspark.sql.functions import from_json, col\n",
    "conf = SparkConf().setAppName('FirstSpark2').setMaster('Spark')\n",
    "sc = SparkContext.getOrCreate()\n",
    "\n",
    "from pyspark.sql import SQLContext\n",
    "sqlContext = SQLContext(sc)\n",
    "df = sqlContext.read.json(\"hdfs://orion11:20001/sample_sampled_reddit/\")\n"
   ]
  },
  {
   "cell_type": "markdown",
   "metadata": {},
   "source": [
    "#### Filtering dataset"
   ]
  },
  {
   "cell_type": "code",
   "execution_count": 2,
   "metadata": {},
   "outputs": [
    {
     "name": "stdout",
     "output_type": "stream",
     "text": [
      "<class 'pyspark.sql.dataframe.DataFrame'>\n",
      "27303462\n",
      "+--------+--------------+--------------+----------------------+-----------------+--------------------+---------+----------------+-------+-----------+-------------+-----+------+------+-------+---------+-----------+----+---------+--------------+-------+------------+-----+-----+------------+--------+---------------+------------+---+------------+\n",
      "|archived|        author|author_cakeday|author_flair_css_class|author_flair_text|                body|body_html|controversiality|created|created_utc|distinguished|downs|edited|gilded|     id|  link_id|mod_reports|name|parent_id|removal_reason|replies|retrieved_on|saved|score|score_hidden|stickied|      subreddit|subreddit_id|ups|user_reports|\n",
      "+--------+--------------+--------------+----------------------+-----------------+--------------------+---------+----------------+-------+-----------+-------------+-----+------+------+-------+---------+-----------+----+---------+--------------+-------+------------+-----+-----+------------+--------+---------------+------------+---+------------+\n",
      "|    null|distanceformed|          null|                 green|           7/7/17|I need hash tag h...|     null|               0|   null| 1474469708|         null| null| false|     0|d7w2ag1|t3_53tgt2|       null|null|t3_53tgt2|          null|   null|  1475908052| null|    6|        null|   false|weddingplanning|    t5_2rv3t|  6|        null|\n",
      "+--------+--------------+--------------+----------------------+-----------------+--------------------+---------+----------------+-------+-----------+-------------+-----+------+------+-------+---------+-----------+----+---------+--------------+-------+------------+-----+-----+------------+--------+---------------+------------+---+------------+\n",
      "only showing top 1 row\n",
      "\n"
     ]
    }
   ],
   "source": [
    "df2 = df.filter(\n",
    "~(df.body.like('[deleted]'))\n",
    "    & ~(df.body.isNull())\n",
    "    & ~(df.author.like('[deleted]'))\n",
    "    & ~(df.author.like('AutoModerator')) \n",
    "    & ~(df.author.rlike(\"[bB][oO][tT]\"))\n",
    "\n",
    ")\n",
    "\n",
    "print(type(df2))\n",
    "print(df2.count())\n",
    "df2.show(1)"
   ]
  },
  {
   "cell_type": "markdown",
   "metadata": {},
   "source": [
    "### Predicting number of distinct users commenting on a reddit for a given year and month"
   ]
  },
  {
   "cell_type": "code",
   "execution_count": 4,
   "metadata": {},
   "outputs": [
    {
     "name": "stdout",
     "output_type": "stream",
     "text": [
      "+--------+--------------+--------------+----------------------+-----------------+--------------------+---------+----------------+-------+-----------+-------------+-----+------+------+-------+---------+-----------+----+---------+--------------+-------+------------+-----+-----+------------+--------+---------------+------------+---+------------+----+-----+\n",
      "|archived|        author|author_cakeday|author_flair_css_class|author_flair_text|                body|body_html|controversiality|created|created_utc|distinguished|downs|edited|gilded|     id|  link_id|mod_reports|name|parent_id|removal_reason|replies|retrieved_on|saved|score|score_hidden|stickied|      subreddit|subreddit_id|ups|user_reports|year|month|\n",
      "+--------+--------------+--------------+----------------------+-----------------+--------------------+---------+----------------+-------+-----------+-------------+-----+------+------+-------+---------+-----------+----+---------+--------------+-------+------------+-----+-----+------------+--------+---------------+------------+---+------------+----+-----+\n",
      "|    null|distanceformed|          null|                 green|           7/7/17|I need hash tag h...|     null|               0|   null| 1474469708|         null| null| false|     0|d7w2ag1|t3_53tgt2|       null|null|t3_53tgt2|          null|   null|  1475908052| null|    6|        null|   false|weddingplanning|    t5_2rv3t|  6|        null|2016|    9|\n",
      "|    null|RetardedTiming|          null|                  null|             null|I'll never unders...|     null|               0|   null| 1474469714|         null| null| false|     0|d7w2am5|t3_53qxob|       null|null|t3_53qxob|          null|   null|  1475908055| null|  -10|        null|   false|           cars|    t5_2qhl2|-10|        null|2016|    9|\n",
      "+--------+--------------+--------------+----------------------+-----------------+--------------------+---------+----------------+-------+-----------+-------------+-----+------+------+-------+---------+-----------+----+---------+--------------+-------+------------+-----+-----+------------+--------+---------------+------------+---+------------+----+-----+\n",
      "only showing top 2 rows\n",
      "\n"
     ]
    }
   ],
   "source": [
    "from pyspark.sql.functions import year, month, dayofmonth, from_unixtime\n",
    "from pyspark.sql.types import DateType\n",
    "\n",
    "pred_df = (df2\n",
    "      .withColumn(\"year\", year(from_unixtime(\"created_utc\").cast(DateType())))\n",
    "      .withColumn(\"month\",month(from_unixtime(\"created_utc\").cast(DateType())))\n",
    "      )\n",
    "pred_df.show(2)"
   ]
  },
  {
   "cell_type": "code",
   "execution_count": 14,
   "metadata": {},
   "outputs": [
    {
     "name": "stdout",
     "output_type": "stream",
     "text": [
      "+----+-----+------------+\n",
      "|year|month|author_count|\n",
      "+----+-----+------------+\n",
      "|2012|   10|      132550|\n",
      "|2007|    6|         802|\n",
      "|2010|   12|       30085|\n",
      "|2010|    7|       19348|\n",
      "|2015|    2|      280120|\n",
      "+----+-----+------------+\n",
      "only showing top 5 rows\n",
      "\n"
     ]
    }
   ],
   "source": [
    "from pyspark.sql.functions import countDistinct\n",
    "\n",
    "# pred_df1 = pred_df.groupBy(\"year\",\"month\", \"subreddit\")\n",
    "pred_df1 = pred_df.groupBy(\"year\",\"month\")\n",
    "pred_df1 = pred_df1.agg(countDistinct(\"author\").alias(\"author_count\"))\n",
    "\n",
    "pred_df1.show(20)"
   ]
  },
  {
   "cell_type": "markdown",
   "metadata": {},
   "source": [
    "#### Viewing it in chart"
   ]
  },
  {
   "cell_type": "code",
   "execution_count": 46,
   "metadata": {},
   "outputs": [
    {
     "data": {
      "image/png": "[encoded data removed]",
      "text/plain": [
       "<Figure size 432x288 with 1 Axes>"
      ]
     },
     "metadata": {
      "needs_background": "light"
     },
     "output_type": "display_data"
    }
   ],
   "source": [
    "import seaborn as sns\n",
    "\n",
    "# scatter_df = pred_df1\n",
    "\n",
    "scatter_df_P = pred_df1.toPandas()\n",
    "\n",
    "\n",
    "ax = sns.scatterplot(x=\"year\", y=\"author_count\", hue=\"month\", data=scatter_df_P)"
   ]
  },
  {
   "cell_type": "markdown",
   "metadata": {},
   "source": [
    "##### > We can see that since 2010 there has been rise liner rise in number of users commenting on reddit"
   ]
  },
  {
   "cell_type": "markdown",
   "metadata": {},
   "source": [
    "### Let us run a prediction model"
   ]
  },
  {
   "cell_type": "markdown",
   "metadata": {},
   "source": [
    "#### Breaking data into train and test"
   ]
  },
  {
   "cell_type": "code",
   "execution_count": 25,
   "metadata": {},
   "outputs": [],
   "source": [
    "m_data = pred_df1.where(pred_df1.year!=2017).toPandas()\n",
    "# Filter rows with missing values\n",
    "# melbourne_data = melbourne_data.dropna(axis=0)\n",
    "# Choose target and features\n",
    "y = m_data.author_count\n",
    "m_features = ['year', 'month']\n",
    "X = m_data[m_features]\n",
    "\n",
    "from sklearn.model_selection import train_test_split\n",
    "\n",
    "# split data into training and validation data, for both features and target\n",
    "# The split is based on a random number generator. Supplying a numeric value to\n",
    "# the random_state argument guarantees we get the same split every time we\n",
    "# run this script.\n",
    "train_X, val_X, train_y, val_y = train_test_split(X, y,random_state = 0)"
   ]
  },
  {
   "cell_type": "markdown",
   "metadata": {},
   "source": [
    "#### Training and testing performance"
   ]
  },
  {
   "cell_type": "code",
   "execution_count": 29,
   "metadata": {},
   "outputs": [
    {
     "name": "stdout",
     "output_type": "stream",
     "text": [
      "5127.858823529412\n",
      "38849.363339754585\n"
     ]
    },
    {
     "name": "stderr",
     "output_type": "stream",
     "text": [
      "/home2/anaconda3/lib/python3.7/site-packages/sklearn/ensemble/forest.py:245: FutureWarning: The default value of n_estimators will change from 10 in version 0.20 to 100 in 0.22.\n",
      "  \"10 in version 0.20 to 100 in 0.22.\", FutureWarning)\n"
     ]
    }
   ],
   "source": [
    "from sklearn.ensemble import RandomForestRegressor\n",
    "from sklearn.linear_model import LinearRegression\n",
    "from sklearn.metrics import mean_absolute_error\n",
    "\n",
    "forest_model0 = RandomForestRegressor(random_state=1)\n",
    "forest_model0.fit(train_X, train_y)\n",
    "m_preds0 = forest_model0.predict(val_X)\n",
    "print(mean_absolute_error(val_y, m_preds0))\n",
    "\n",
    "forest_model = LinearRegression()\n",
    "forest_model.fit(train_X, train_y)\n",
    "m_preds = forest_model.predict(val_X)\n",
    "print(mean_absolute_error(val_y, m_preds))"
   ]
  },
  {
   "cell_type": "markdown",
   "metadata": {},
   "source": [
    "#### > Random Forest Regressor is performing much better than Linear regression. So we will use Random forest regressor as our chosen model"
   ]
  },
  {
   "cell_type": "markdown",
   "metadata": {},
   "source": [
    "#### Predicting distinct users "
   ]
  },
  {
   "cell_type": "code",
   "execution_count": 38,
   "metadata": {},
   "outputs": [
    {
     "name": "stdout",
     "output_type": "stream",
     "text": [
      "[804.4]\n",
      "[47042.8]\n",
      "[305486.]\n",
      "[360838.9]\n"
     ]
    }
   ],
   "source": [
    "import numpy as np\n",
    "\n",
    "np_a = np.array([[2007, 6]])\n",
    "np_a_preds0 = forest_model0.predict(np_a)\n",
    "print(np_a_preds0)\n",
    "np_a = np.array([[2011, 6]])\n",
    "np_a_preds0 = forest_model0.predict(np_a)\n",
    "print(np_a_preds0)\n",
    "np_a = np.array([[2015, 6]])\n",
    "np_a_preds0 = forest_model0.predict(np_a)\n",
    "print(np_a_preds0)\n",
    "np_a = np.array([[2018, 6]])\n",
    "np_a_preds0 = forest_model0.predict(np_a)\n",
    "print(np_a_preds0)"
   ]
  },
  {
   "cell_type": "markdown",
   "metadata": {},
   "source": [
    "### Checking the toxicity on reddit year on year"
   ]
  },
  {
   "cell_type": "markdown",
   "metadata": {},
   "source": [
    "#### Adding sentiment to each row"
   ]
  },
  {
   "cell_type": "code",
   "execution_count": 53,
   "metadata": {},
   "outputs": [
    {
     "name": "stdout",
     "output_type": "stream",
     "text": [
      "+--------+--------------+--------------+----------------------+-----------------+--------------------+---------+----------------+-------+-----------+-------------+-----+------+------+-------+---------+-----------+----+---------+--------------+-------+------------+-----+-----+------------+--------+---------------+------------+---+------------+----+-----+---------+\n",
      "|archived|        author|author_cakeday|author_flair_css_class|author_flair_text|                body|body_html|controversiality|created|created_utc|distinguished|downs|edited|gilded|     id|  link_id|mod_reports|name|parent_id|removal_reason|replies|retrieved_on|saved|score|score_hidden|stickied|      subreddit|subreddit_id|ups|user_reports|year|month|sentiment|\n",
      "+--------+--------------+--------------+----------------------+-----------------+--------------------+---------+----------------+-------+-----------+-------------+-----+------+------+-------+---------+-----------+----+---------+--------------+-------+------------+-----+-----+------------+--------+---------------+------------+---+------------+----+-----+---------+\n",
      "|    null|distanceformed|          null|                 green|           7/7/17|I need hash tag h...|     null|               0|   null| 1474469708|         null| null| false|     0|d7w2ag1|t3_53tgt2|       null|null|t3_53tgt2|          null|   null|  1475908052| null|    6|        null|   false|weddingplanning|    t5_2rv3t|  6|        null|2016|    9|   0.9129|\n",
      "+--------+--------------+--------------+----------------------+-----------------+--------------------+---------+----------------+-------+-----------+-------------+-----+------+------+-------+---------+-----------+----+---------+--------------+-------+------------+-----+-----+------------+--------+---------------+------------+---+------------+----+-----+---------+\n",
      "only showing top 1 row\n",
      "\n",
      "CPU times: user 73.3 ms, sys: 8.8 ms, total: 82.1 ms\n",
      "Wall time: 10.4 s\n"
     ]
    }
   ],
   "source": [
    "%%time\n",
    "\n",
    "# import nltk\n",
    "# nltk.download('vader_lexicon')\n",
    "\n",
    "from nltk.sentiment.vader import SentimentIntensityAnalyzer\n",
    "sid = SentimentIntensityAnalyzer()\n",
    "\n",
    "from pyspark.sql import functions as F\n",
    "import re\n",
    "from pyspark.sql.functions import udf\n",
    "from pyspark.sql.types import *\n",
    "\n",
    "# pattern = \"\\b[A-Z]+\"\n",
    "\n",
    "def getSentiment(body):\n",
    "    ss = sid.polarity_scores(body)\n",
    "    print(ss)\n",
    "    return ss[\"compound\"]\n",
    "\n",
    "Score = udf(getSentiment, DoubleType())\n",
    "sent_df = pred_df.withColumn('sentiment', Score(\"body\"))\n",
    "sent_df.show(1)"
   ]
  },
  {
   "cell_type": "code",
   "execution_count": 54,
   "metadata": {},
   "outputs": [
    {
     "name": "stdout",
     "output_type": "stream",
     "text": [
      "+----+-----+--------------------+\n",
      "|year|month|       avg_sentiment|\n",
      "+----+-----+--------------------+\n",
      "|2012|   10| 0.12465327520245463|\n",
      "|2007|    6| 0.04246504347826081|\n",
      "|2010|    7| 0.11269978628389155|\n",
      "|2010|   12| 0.12465467038226721|\n",
      "|2015|    2| 0.13628438325462214|\n",
      "|2017|    3| 0.13032242142340375|\n",
      "|2008|    8| 0.05066389743589743|\n",
      "|2014|    4| 0.14040690795773542|\n",
      "|2009|   11| 0.10186279909973925|\n",
      "|2016|    7| 0.12330122318435041|\n",
      "|2015|   12| 0.12765723653943128|\n",
      "|2016|   11| 0.12239789460491496|\n",
      "|2013|    2| 0.13258108911676086|\n",
      "|2012|    8| 0.12881099775652374|\n",
      "|2012|    4| 0.12816685179603282|\n",
      "|2012|   12| 0.12294370010026336|\n",
      "|2006|   12|   0.071960327198364|\n",
      "|2007|    1| 0.08725232358003439|\n",
      "|2007|   10| 0.07390407138873399|\n",
      "|2006|    7|0.039474903474903435|\n",
      "+----+-----+--------------------+\n",
      "only showing top 20 rows\n",
      "\n"
     ]
    }
   ],
   "source": [
    "from pyspark.sql.functions import avg\n",
    "\n",
    "sent_df1 = sent_df.groupBy(\"year\",\"month\")\n",
    "sent_df1 = sent_df1.agg(avg(\"sentiment\").alias(\"avg_sentiment\"))\n",
    "\n",
    "sent_df1.show(20)"
   ]
  },
  {
   "cell_type": "markdown",
   "metadata": {},
   "source": [
    "#### Veiwing it in chart"
   ]
  },
  {
   "cell_type": "code",
   "execution_count": 59,
   "metadata": {},
   "outputs": [
    {
     "data": {
      "text/plain": [
       "<matplotlib.legend.Legend at 0x7febad462be0>"
      ]
     },
     "execution_count": 59,
     "metadata": {},
     "output_type": "execute_result"
    },
    {
     "data": {
      "image/png": "[encoded data removed]",
      "text/plain": [
       "<Figure size 432x288 with 1 Axes>"
      ]
     },
     "metadata": {
      "needs_background": "light"
     },
     "output_type": "display_data"
    }
   ],
   "source": [
    "import seaborn as sns\n",
    "import matplotlib.pyplot as plt\n",
    "\n",
    "# scatter_df = pred_df1\n",
    "\n",
    "scatter_df_S = sent_df1.toPandas()\n",
    "\n",
    "\n",
    "ax = sns.scatterplot(x=\"year\", y=\"avg_sentiment\", hue=\"month\", data=scatter_df_S)\n",
    "\n",
    "plt.legend(bbox_to_anchor=(1.05, 1), loc=2, borderaxespad=0.)"
   ]
  },
  {
   "cell_type": "markdown",
   "metadata": {},
   "source": [
    "#### > We see that avg sentiment of reddit saw an increase from 2008 to 2013, since then it has stagnated a bit"
   ]
  },
  {
   "cell_type": "markdown",
   "metadata": {},
   "source": [
    "### Let us run a prediction model"
   ]
  },
  {
   "cell_type": "markdown",
   "metadata": {},
   "source": [
    "#### Breaking data into train and test"
   ]
  },
  {
   "cell_type": "code",
   "execution_count": 56,
   "metadata": {},
   "outputs": [],
   "source": [
    "m_data = sent_df1.where(pred_df1.year!=2017).toPandas()\n",
    "# Filter rows with missing values\n",
    "# melbourne_data = melbourne_data.dropna(axis=0)\n",
    "# Choose target and features\n",
    "y = m_data.avg_sentiment\n",
    "m_features = ['year', 'month']\n",
    "X = m_data[m_features]\n",
    "\n",
    "from sklearn.model_selection import train_test_split\n",
    "\n",
    "# split data into training and validation data, for both features and target\n",
    "# The split is based on a random number generator. Supplying a numeric value to\n",
    "# the random_state argument guarantees we get the same split every time we\n",
    "# run this script.\n",
    "train_X, val_X, train_y, val_y = train_test_split(X, y,random_state = 0)"
   ]
  },
  {
   "cell_type": "markdown",
   "metadata": {},
   "source": [
    "#### Training and testing performance"
   ]
  },
  {
   "cell_type": "code",
   "execution_count": 57,
   "metadata": {},
   "outputs": [
    {
     "name": "stdout",
     "output_type": "stream",
     "text": [
      "0.0049379940550915635\n",
      "0.015194474608656609\n"
     ]
    },
    {
     "name": "stderr",
     "output_type": "stream",
     "text": [
      "/home2/anaconda3/lib/python3.7/site-packages/sklearn/ensemble/forest.py:245: FutureWarning: The default value of n_estimators will change from 10 in version 0.20 to 100 in 0.22.\n",
      "  \"10 in version 0.20 to 100 in 0.22.\", FutureWarning)\n"
     ]
    }
   ],
   "source": [
    "from sklearn.ensemble import RandomForestRegressor\n",
    "from sklearn.linear_model import LinearRegression\n",
    "from sklearn.metrics import mean_absolute_error\n",
    "\n",
    "forest_model0 = RandomForestRegressor(random_state=1)\n",
    "forest_model0.fit(train_X, train_y)\n",
    "m_preds0 = forest_model0.predict(val_X)\n",
    "print(mean_absolute_error(val_y, m_preds0))\n",
    "\n",
    "forest_model = LinearRegression()\n",
    "forest_model.fit(train_X, train_y)\n",
    "m_preds = forest_model.predict(val_X)\n",
    "print(mean_absolute_error(val_y, m_preds))"
   ]
  },
  {
   "cell_type": "markdown",
   "metadata": {},
   "source": [
    "#### > We see that Random Forest regressor, performs much better than Linear Regression, so choosing Random Forest model "
   ]
  },
  {
   "cell_type": "markdown",
   "metadata": {},
   "source": [
    "#### Predicting distinct users "
   ]
  },
  {
   "cell_type": "code",
   "execution_count": 65,
   "metadata": {},
   "outputs": [
    {
     "name": "stdout",
     "output_type": "stream",
     "text": [
      "[0.05166666]\n",
      "[0.10556862]\n",
      "[0.13642019]\n",
      "[0.12593705]\n"
     ]
    }
   ],
   "source": [
    "import numpy as np\n",
    "\n",
    "np_a = np.array([[2007, 6]])\n",
    "np_a_preds0 = forest_model0.predict(np_a)\n",
    "print(np_a_preds0)\n",
    "np_a = np.array([[2010, 7]])\n",
    "np_a_preds0 = forest_model0.predict(np_a)\n",
    "print(np_a_preds0)\n",
    "np_a = np.array([[2014, 7]])\n",
    "np_a_preds0 = forest_model0.predict(np_a)\n",
    "print(np_a_preds0)\n",
    "np_a = np.array([[2020, 6]])\n",
    "np_a_preds0 = forest_model0.predict(np_a)\n",
    "print(np_a_preds0)"
   ]
  },
  {
   "cell_type": "code",
   "execution_count": null,
   "metadata": {},
   "outputs": [],
   "source": []
  },
  {
   "cell_type": "markdown",
   "metadata": {},
   "source": [
    "### Here we perform KMean Clustering to check which subreddits are close to each other in terms of sentiment"
   ]
  },
  {
   "cell_type": "code",
   "execution_count": 8,
   "metadata": {},
   "outputs": [
    {
     "name": "stdout",
     "output_type": "stream",
     "text": [
      "+------------+---------+\n",
      "|subreddit_id|sentiment|\n",
      "+------------+---------+\n",
      "|    t5_2rv3t|   0.9129|\n",
      "|    t5_2qhl2|  -0.8951|\n",
      "+------------+---------+\n",
      "only showing top 2 rows\n",
      "\n"
     ]
    }
   ],
   "source": [
    "dffiltered = df3.select('subreddit_id','sentiment')\n",
    "dffiltered.show(2)"
   ]
  },
  {
   "cell_type": "code",
   "execution_count": 10,
   "metadata": {},
   "outputs": [
    {
     "name": "stdout",
     "output_type": "stream",
     "text": [
      "+------------+---------+-----+\n",
      "|subreddit_id|sentiment|count|\n",
      "+------------+---------+-----+\n",
      "|    t5_2rv3t|   0.9129|  1.0|\n",
      "|    t5_2qhl2|  -0.8951|  1.0|\n",
      "+------------+---------+-----+\n",
      "only showing top 2 rows\n",
      "\n"
     ]
    }
   ],
   "source": [
    "\n",
    "def getCount(id):\n",
    "    return 1.0\n",
    "\n",
    "getCount = udf(getCount, DoubleType())\n",
    "\n",
    "dffiltered = dffiltered.withColumn('count',getCount('subreddit_id'))\n",
    "dffiltered.show(2)"
   ]
  },
  {
   "cell_type": "code",
   "execution_count": 15,
   "metadata": {},
   "outputs": [
    {
     "name": "stdout",
     "output_type": "stream",
     "text": [
      "+------------+-------------------+----------+\n",
      "|subreddit_id|     avg(sentiment)|sum(count)|\n",
      "+------------+-------------------+----------+\n",
      "|    t5_2r7qs|0.15442861386138623|    1010.0|\n",
      "|    t5_2ybvq|           0.267835|      20.0|\n",
      "+------------+-------------------+----------+\n",
      "only showing top 2 rows\n",
      "\n"
     ]
    }
   ],
   "source": [
    "from pyspark.sql import functions as F\n",
    "\n",
    "grouped2 = dffiltered.groupBy('subreddit_id').agg(F.avg('sentiment'), F.sum('count'))\n",
    "grouped2.show(2)"
   ]
  },
  {
   "cell_type": "code",
   "execution_count": 18,
   "metadata": {},
   "outputs": [
    {
     "name": "stdout",
     "output_type": "stream",
     "text": [
      "+------------+-------------------+----------+\n",
      "|subreddit_id|     avg(sentiment)|sum(count)|\n",
      "+------------+-------------------+----------+\n",
      "|    t5_2uu0j|0.18739892733041247|    6619.0|\n",
      "|    t5_326m9|0.10993841650812233|    6833.0|\n",
      "+------------+-------------------+----------+\n",
      "only showing top 2 rows\n",
      "\n"
     ]
    }
   ],
   "source": [
    "FEATURES_COL = ['avg(sentiment)', 'sum(count)']\n",
    "\n",
    "for col_name in FEATURES_COL:\n",
    "    df = grouped2.withColumn(col_name, col(col_name).cast('float'))\n",
    "    \n",
    "df.show(2)"
   ]
  },
  {
   "cell_type": "code",
   "execution_count": 19,
   "metadata": {},
   "outputs": [
    {
     "name": "stdout",
     "output_type": "stream",
     "text": [
      "+------------+-------------------+----------+\n",
      "|subreddit_id|     avg(sentiment)|sum(count)|\n",
      "+------------+-------------------+----------+\n",
      "|    t5_2uu0j| 0.1873989273304124|    6619.0|\n",
      "|    t5_326m9|0.10993841650812235|    6833.0|\n",
      "|    t5_32ob1|0.19885257703081213|    3570.0|\n",
      "|    t5_3d0v5|0.11405110759493672|     632.0|\n",
      "|    t5_2skgl|0.14036860465116277|    1204.0|\n",
      "|    t5_2rnei|0.09983304221251818|     687.0|\n",
      "|    t5_31fm3|0.14004727921498655|    1121.0|\n",
      "|    t5_2rtpo|0.22175964912280707|     456.0|\n",
      "|    t5_3c2d7| 0.1553663432118192|   11439.0|\n",
      "|    t5_2qh84| 0.2704192504258945|     587.0|\n",
      "|    t5_3a1r5|0.24355500000000002|      20.0|\n",
      "|    t5_2r7qs|0.15442861386138612|    1010.0|\n",
      "|    t5_2sqvk| 0.2548759098786829|     577.0|\n",
      "|    t5_2s7xm|0.19201274298056156|     463.0|\n",
      "|    t5_2t34b|0.11871242424242417|     660.0|\n",
      "|    t5_38c1l|                0.0|       1.0|\n",
      "|    t5_2yq3c|0.27494272151898735|     316.0|\n",
      "|    t5_2y6h2|0.28802812499999997|      96.0|\n",
      "|    t5_39dwd|           0.433225|      24.0|\n",
      "|    t5_3g70s| 0.1360363286264442|    1558.0|\n",
      "+------------+-------------------+----------+\n",
      "only showing top 20 rows\n",
      "\n"
     ]
    }
   ],
   "source": [
    "df = df.na.drop()\n",
    "df.show()"
   ]
  },
  {
   "cell_type": "markdown",
   "metadata": {},
   "source": [
    "#### Create a features column to be used in the clustering"
   ]
  },
  {
   "cell_type": "code",
   "execution_count": 20,
   "metadata": {},
   "outputs": [
    {
     "name": "stdout",
     "output_type": "stream",
     "text": [
      "+------------+--------------------+\n",
      "|subreddit_id|            features|\n",
      "+------------+--------------------+\n",
      "|    t5_3c2d7|[0.15536634321181...|\n",
      "|    t5_2uu0j|[0.18739892733041...|\n",
      "|    t5_32ob1|[0.19885257703081...|\n",
      "|    t5_32ntp|[0.14690863874345...|\n",
      "|    t5_326m9|[0.10993841650812...|\n",
      "|    t5_2quz8|[0.12214671916010...|\n",
      "|    t5_2skgl|[0.14036860465116...|\n",
      "|    t5_2sqvk|[0.25487590987868...|\n",
      "|    t5_2rnei|[0.09983304221251...|\n",
      "|    t5_37748|[0.01622842105263...|\n",
      "|    t5_2qhsb|[-0.0014160493827...|\n",
      "|    t5_3eu9i|[0.02096153846153...|\n",
      "|    t5_3g70s|[0.13603632862644...|\n",
      "|    t5_3cigp|[0.18772999999999...|\n",
      "|    t5_2s7xm|[0.19201274298056...|\n",
      "|    t5_31fm3|[0.14004727921498...|\n",
      "|    t5_2sj2w|[0.27673762237762...|\n",
      "|    t5_3infp|[0.31976842105263...|\n",
      "|    t5_2tzv3|[0.03324651162790...|\n",
      "|    t5_2sn2r|[0.22073896103896...|\n",
      "+------------+--------------------+\n",
      "only showing top 20 rows\n",
      "\n"
     ]
    }
   ],
   "source": [
    "from pyspark.ml.clustering import KMeans\n",
    "from pyspark.ml.feature import VectorAssembler\n",
    "\n",
    "vecAssembler = VectorAssembler(inputCols=FEATURES_COL, outputCol=\"features\")\n",
    "df_kmeans = vecAssembler.transform(df).select('subreddit_id', 'features')\n",
    "df_kmeans.show()"
   ]
  },
  {
   "cell_type": "markdown",
   "metadata": {},
   "source": [
    "#### Optimize choice of k\n"
   ]
  },
  {
   "cell_type": "code",
   "execution_count": null,
   "metadata": {},
   "outputs": [],
   "source": [
    "import numpy as np\n",
    "import pandas as pd\n",
    "\n",
    "cost = np.zeros(20)\n",
    "for k in range(2,20):\n",
    "    kmeans = KMeans().setK(k).setSeed(1).setFeaturesCol(\"features\")\n",
    "    model = kmeans.fit(df_kmeans.sample(False,0.1, seed=42))\n",
    "    cost[k] = model.computeCost(df_kmeans) # requires Spark 2.0 or later"
   ]
  },
  {
   "cell_type": "code",
   "execution_count": null,
   "metadata": {},
   "outputs": [],
   "source": [
    "import matplotlib.pyplot as plt\n",
    "from mpl_toolkits.mplot3d import Axes3D\n",
    "\n",
    "fig, ax = plt.subplots(1,1, figsize =(8,6))\n",
    "ax.plot(range(2,20),cost[2:20])\n",
    "ax.set_xlabel('k')\n",
    "ax.set_ylabel('cost')"
   ]
  },
  {
   "cell_type": "markdown",
   "metadata": {},
   "source": [
    "#### Training the machine learning model"
   ]
  },
  {
   "cell_type": "code",
   "execution_count": null,
   "metadata": {},
   "outputs": [],
   "source": [
    "k = 10\n",
    "kmeans = KMeans().setK(k).setSeed(1).setFeaturesCol(\"features\")\n",
    "model = kmeans.fit(df_kmeans)\n",
    "centers = model.clusterCenters()\n",
    "\n",
    "print(\"Cluster Centers: \")\n",
    "for center in centers:\n",
    "    print(center)"
   ]
  },
  {
   "cell_type": "markdown",
   "metadata": {},
   "source": [
    "#### Assign clusters to event"
   ]
  },
  {
   "cell_type": "code",
   "execution_count": null,
   "metadata": {},
   "outputs": [],
   "source": [
    "transformed = model.transform(df_kmeans).select('subreddit_id', 'prediction')\n",
    "rows = transformed.collect()\n",
    "print(rows[:3])"
   ]
  },
  {
   "cell_type": "code",
   "execution_count": null,
   "metadata": {},
   "outputs": [],
   "source": [
    "df_pred = sqlContext.createDataFrame(rows)\n",
    "df_pred.show()"
   ]
  }
 ],
 "metadata": {
  "kernelspec": {
   "display_name": "Python 3",
   "language": "python",
   "name": "python3"
  },
  "language_info": {
   "codemirror_mode": {
    "name": "ipython",
    "version": 3
   },
   "file_extension": ".py",
   "mimetype": "text/x-python",
   "name": "python",
   "nbconvert_exporter": "python",
   "pygments_lexer": "ipython3",
   "version": "3.7.3"
  }
 },
 "nbformat": 4,
 "nbformat_minor": 2
}
